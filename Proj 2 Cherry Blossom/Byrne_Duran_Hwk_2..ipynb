{
 "cells": [
  {
   "cell_type": "markdown",
   "metadata": {},
   "source": [
    "# Modeling Runner's Times in Cherry Blossom Race"
   ]
  },
  {
   "cell_type": "markdown",
   "metadata": {},
   "source": [
    "Daniel Byrne, Joanna Duran\n",
    "\n",
    "9/19/19"
   ]
  },
  {
   "cell_type": "markdown",
   "metadata": {},
   "source": [
    "### Abstract\n",
    "We analyze the Cherry Blossom 10 Mile race results in order to assess if the age distributions of racers change over the years. We compare the age distributions of the runners across the years 1999-2012. We utilize  box plots and density curves to make our comparisons. We will answer \"How do the distributions change over the years?\" and \"Was it a gradual change?\""
   ]
  },
  {
   "cell_type": "markdown",
   "metadata": {},
   "source": [
    "### Introduction\n",
    "Thousands of people participate in 5ks and 10ks every year. In most of these races, lots of data is collected by the race organizers and racing services. This data is generally published on the individual race's website or on the racing services website. This data is freely accessible and can give quite a bit of insight about runner's performance over time as well as participants demographics.\n",
    "\n",
    "We chose to investigate the Cherry Blossom Ten Mile Run held in Washington D.C. every year in April. The race started in 1973 and there are records from 1973 that are avialable on the race's website, http://www.cherryblossom.org/. Upon ivestigation of the 1973 data there seems to be just sex, name, time and pace available; age, division and hometown are not available. For our analysis we chose to focus on data from the years 1999 to 2012. The data is publically available and we web scraped it from the Web and read into R Studio.\n",
    "\n",
    "Our analysis objective is to compare the age distributions of the runners across all 14 years (1999-2012) of the races.  We sought out to answer \"How do the age distributions change over the years?\" and \"Was it a gradual change?\""
   ]
  },
  {
   "cell_type": "markdown",
   "metadata": {},
   "source": [
    "### Methods\n",
    "\n",
    "Our analysis follow the following steps: Scrape data from site and read into R, transform data and perform basic statistics, examine various plots, determine statistically significant difference between men ages, differences between the grand mean and the group means.\n",
    "\n",
    "#### Scrape Web\n",
    "We began by reading in the results. When we examine the first 6 lines of our data we see the data read in correctly (Fig. 1)"
   ]
  },
  {
   "cell_type": "markdown",
   "metadata": {},
   "source": [
    "![](scrape.jpg)\n",
    "\n",
    "                                                Fig. 1 Initial read in"
   ]
  },
  {
   "cell_type": "markdown",
   "metadata": {},
   "source": [
    "#### Basic statistics\n",
    "We performed basic descriptive statistics on ages per year (Fig. 2). What we gathered here was that there might be some points that needed to be investigated. One case in point is the minimum age in the 2002 dataset. The minimum age is four and it is hard to belive that a four year old ran the 10 miler. After investigating, it seems to be a typo since the time was 1:28:56 which coincides with an plausible time."
   ]
  },
  {
   "cell_type": "markdown",
   "metadata": {},
   "source": [
    "![](descStats.jpg)\n",
    "\n",
    "                                                Fig. 2 Descriptive Statistics"
   ]
  },
  {
   "cell_type": "markdown",
   "metadata": {},
   "source": [
    "#### Examine Plots\n",
    "From the boxplot we observed that the average age decreases gradually from 2000 until 2010. "
   ]
  },
  {
   "cell_type": "markdown",
   "metadata": {},
   "source": [
    "![](boxplot.jpg)\n",
    "\n",
    "                                                Fig. 3 Boxplot"
   ]
  },
  {
   "cell_type": "markdown",
   "metadata": {},
   "source": [
    "The smooth scatter"
   ]
  },
  {
   "cell_type": "markdown",
   "metadata": {},
   "source": [
    "![](Smoother.jpg)\n",
    "\n",
    "                                                Fig. 4 Smooth Scatter"
   ]
  },
  {
   "cell_type": "markdown",
   "metadata": {},
   "source": [
    "The density"
   ]
  },
  {
   "cell_type": "markdown",
   "metadata": {},
   "source": [
    "![](density.jpg)\n",
    "\n",
    "                                                Fig. 5 Density Plot"
   ]
  },
  {
   "cell_type": "markdown",
   "metadata": {},
   "source": [
    "#### Statistically Significant\n",
    "determine statistically significant difference between men ages"
   ]
  },
  {
   "cell_type": "markdown",
   "metadata": {},
   "source": [
    "![](anova.jpg)\n",
    "\n",
    "                                                Fig. 6 ANOVA"
   ]
  },
  {
   "cell_type": "markdown",
   "metadata": {},
   "source": [
    "#### Differences between the grand mean and the group means\n",
    "We perform a "
   ]
  },
  {
   "cell_type": "markdown",
   "metadata": {},
   "source": [
    "![](pairwise.jpg)\n",
    "\n",
    "                                                Fig. 7 Pairwise Comparison"
   ]
  },
  {
   "cell_type": "markdown",
   "metadata": {},
   "source": [
    "### Results\n",
    "The results section will include intelligent discussion of the output of the work.  Please stick to the data and avoid commentary on the software including issues with errors, bugs or code.  Figures, tables, and diagrams are especially useful in this section.  Be sure to caption figures and describe them in a manner consistent with a professional report.  For example, if the assignment was to try a new method, compare the results with a previous standard method.  If multiple methods were used, compare the results to each other.  Describe what the data implies at a level of an educated reader in the field.\n",
    "\n",
    "Refer to figures as 'Fig X.' such as Fig 1.  Figures can be presented inline or after the main text, but should always be a part of the main document.  It is asked that figures be generated by the software and not screen captures.  If you are uncertain how to generate a figure from a piece of software, feel free to ask.  Please note that all of the software packages utilized in this course are capable of producing graphics for export.  Label all axes, use units and other best practices.  Make the title descriptive of the data presented.  It is also acceptable to include your code inline for Jupyter, including graphics generation."
   ]
  },
  {
   "cell_type": "code",
   "execution_count": 5,
   "metadata": {
    "scrolled": true
   },
   "outputs": [
    {
     "name": "stderr",
     "output_type": "stream",
     "text": [
      "Warning message in eval(expr, envir, enclos):\n",
      "\"NAs introduced by coercion\""
     ]
    },
    {
     "data": {
      "text/html": [
       "<table>\n",
       "<thead><tr><th scope=col>X</th><th scope=col>Race</th><th scope=col>Name</th><th scope=col>Age</th><th scope=col>Time</th><th scope=col>Pace</th><th scope=col>PiS.TiS</th><th scope=col>Division</th><th scope=col>PiD.TiD</th><th scope=col>Hometown</th></tr></thead>\n",
       "<tbody>\n",
       "\t<tr><td>1                    </td><td>1999 10M             </td><td>Worku Bikila (M)     </td><td>28                   </td><td>0:46:59              </td><td>4:42                 </td><td>1/3190               </td><td>M2529                </td><td>1/394                </td><td>Ethiopia             </td></tr>\n",
       "\t<tr><td>2                    </td><td>1999 10M             </td><td>Lazarus Nyakeraka (M)</td><td>24                   </td><td>0:47:01              </td><td>4:42                 </td><td>2/3190               </td><td>M2024                </td><td>1/85                 </td><td>Kenya                </td></tr>\n",
       "\t<tr><td>3                    </td><td>1999 10M             </td><td>James Kariuki (M)    </td><td>27                   </td><td>0:47:03              </td><td>4:42                 </td><td>3/3190               </td><td>M2529                </td><td>2/394                </td><td>Kenya                </td></tr>\n",
       "\t<tr><td>4                    </td><td>1999 10M             </td><td>William Kiptum (M)   </td><td>28                   </td><td>0:47:07              </td><td>4:43                 </td><td>4/3190               </td><td>M2529                </td><td>3/394                </td><td>Kenya                </td></tr>\n",
       "\t<tr><td>5                    </td><td>1999 10M             </td><td>Joseph Kimani (M)    </td><td>26                   </td><td>0:47:31              </td><td>4:45                 </td><td>5/3190               </td><td>M2529                </td><td>4/394                </td><td>Kenya                </td></tr>\n",
       "\t<tr><td>6                    </td><td>1999 10M             </td><td>Josphat Machuka (M)  </td><td>25                   </td><td>0:47:33              </td><td>4:45                 </td><td>6/3190               </td><td>M2529                </td><td>5/394                </td><td>Kenya                </td></tr>\n",
       "</tbody>\n",
       "</table>\n"
      ],
      "text/latex": [
       "\\begin{tabular}{r|llllllllll}\n",
       " X & Race & Name & Age & Time & Pace & PiS.TiS & Division & PiD.TiD & Hometown\\\\\n",
       "\\hline\n",
       "\t 1                     & 1999 10M              & Worku Bikila (M)      & 28                    & 0:46:59               & 4:42                  & 1/3190                & M2529                 & 1/394                 & Ethiopia             \\\\\n",
       "\t 2                     & 1999 10M              & Lazarus Nyakeraka (M) & 24                    & 0:47:01               & 4:42                  & 2/3190                & M2024                 & 1/85                  & Kenya                \\\\\n",
       "\t 3                     & 1999 10M              & James Kariuki (M)     & 27                    & 0:47:03               & 4:42                  & 3/3190                & M2529                 & 2/394                 & Kenya                \\\\\n",
       "\t 4                     & 1999 10M              & William Kiptum (M)    & 28                    & 0:47:07               & 4:43                  & 4/3190                & M2529                 & 3/394                 & Kenya                \\\\\n",
       "\t 5                     & 1999 10M              & Joseph Kimani (M)     & 26                    & 0:47:31               & 4:45                  & 5/3190                & M2529                 & 4/394                 & Kenya                \\\\\n",
       "\t 6                     & 1999 10M              & Josphat Machuka (M)   & 25                    & 0:47:33               & 4:45                  & 6/3190                & M2529                 & 5/394                 & Kenya                \\\\\n",
       "\\end{tabular}\n"
      ],
      "text/markdown": [
       "\n",
       "| X | Race | Name | Age | Time | Pace | PiS.TiS | Division | PiD.TiD | Hometown |\n",
       "|---|---|---|---|---|---|---|---|---|---|\n",
       "| 1                     | 1999 10M              | Worku Bikila (M)      | 28                    | 0:46:59               | 4:42                  | 1/3190                | M2529                 | 1/394                 | Ethiopia              |\n",
       "| 2                     | 1999 10M              | Lazarus Nyakeraka (M) | 24                    | 0:47:01               | 4:42                  | 2/3190                | M2024                 | 1/85                  | Kenya                 |\n",
       "| 3                     | 1999 10M              | James Kariuki (M)     | 27                    | 0:47:03               | 4:42                  | 3/3190                | M2529                 | 2/394                 | Kenya                 |\n",
       "| 4                     | 1999 10M              | William Kiptum (M)    | 28                    | 0:47:07               | 4:43                  | 4/3190                | M2529                 | 3/394                 | Kenya                 |\n",
       "| 5                     | 1999 10M              | Joseph Kimani (M)     | 26                    | 0:47:31               | 4:45                  | 5/3190                | M2529                 | 4/394                 | Kenya                 |\n",
       "| 6                     | 1999 10M              | Josphat Machuka (M)   | 25                    | 0:47:33               | 4:45                  | 6/3190                | M2529                 | 5/394                 | Kenya                 |\n",
       "\n"
      ],
      "text/plain": [
       "  X Race     Name                  Age Time    Pace PiS.TiS Division PiD.TiD\n",
       "1 1 1999 10M Worku Bikila (M)      28  0:46:59 4:42 1/3190  M2529    1/394  \n",
       "2 2 1999 10M Lazarus Nyakeraka (M) 24  0:47:01 4:42 2/3190  M2024    1/85   \n",
       "3 3 1999 10M James Kariuki (M)     27  0:47:03 4:42 3/3190  M2529    2/394  \n",
       "4 4 1999 10M William Kiptum (M)    28  0:47:07 4:43 4/3190  M2529    3/394  \n",
       "5 5 1999 10M Joseph Kimani (M)     26  0:47:31 4:45 5/3190  M2529    4/394  \n",
       "6 6 1999 10M Josphat Machuka (M)   25  0:47:33 4:45 6/3190  M2529    5/394  \n",
       "  Hometown\n",
       "1 Ethiopia\n",
       "2 Kenya   \n",
       "3 Kenya   \n",
       "4 Kenya   \n",
       "5 Kenya   \n",
       "6 Kenya   "
      ]
     },
     "metadata": {},
     "output_type": "display_data"
    }
   ],
   "source": [
    "library(rvest)\n",
    "library(tidyverse)\n",
    "library(mosaic)\n",
    "library(gmodels)\n",
    "library(knitr)\n",
    "library(pander)\n",
    "mensResults = read.csv(paste0(\"./MensResults\",1999,\".csv\"),stringsAsFactors = FALSE)\n",
    "for(year in 2000:2014){\n",
    "  data = read.csv(paste0(\"./MensResults\",year,\".csv\"),stringsAsFactors = FALSE)\n",
    "  mensResults = rbind(mensResults,data)\n",
    "}\n",
    "mensResults$Age = as.numeric(mensResults$Age)\n",
    "mensResults$Race = as.factor(mensResults$Race)\n",
    "head(mensResults)"
   ]
  },
  {
   "cell_type": "markdown",
   "metadata": {},
   "source": [
    "### Conclusion\n",
    "Summarize your results.  Again, do so in a professional manner.  Conclude with what was learned and any possible follow ups.  Avoiding again commenting on errors and software issues.  It is appropriate to talk about methods and how the results compare."
   ]
  },
  {
   "cell_type": "code",
   "execution_count": null,
   "metadata": {},
   "outputs": [],
   "source": []
  }
 ],
 "metadata": {
  "kernelspec": {
   "display_name": "R [conda env:r-tutorial]",
   "language": "R",
   "name": "conda-env-r-tutorial-r"
  },
  "language_info": {
   "codemirror_mode": "r",
   "file_extension": ".r",
   "mimetype": "text/x-r-source",
   "name": "R",
   "pygments_lexer": "r",
   "version": "3.6.1"
  }
 },
 "nbformat": 4,
 "nbformat_minor": 2
}
